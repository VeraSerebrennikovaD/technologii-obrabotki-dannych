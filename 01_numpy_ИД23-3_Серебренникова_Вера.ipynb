{
 "cells": [
  {
   "cell_type": "markdown",
   "metadata": {},
   "source": [
    "# Numpy"
   ]
  },
  {
   "cell_type": "markdown",
   "metadata": {},
   "source": [
    "Материалы:\n",
    "* Макрушин С.В. \"Лекция 1: Библиотека Numpy\"\n",
    "* https://numpy.org/doc/stable/user/index.html\n",
    "* https://numpy.org/doc/stable/reference/index.html"
   ]
  },
  {
   "cell_type": "markdown",
   "metadata": {},
   "source": [
    "## Задачи для совместного разбора"
   ]
  },
  {
   "cell_type": "markdown",
   "metadata": {},
   "source": [
    "1. Сгенерировать двухмерный массив `arr` размерности (4, 7), состоящий из случайных действительных чисел, равномерно распределенных в диапазоне от 0 до 20. Нормализовать значения массива с помощью преобразования вида  $𝑎𝑥+𝑏$  так, что после нормализации максимальный элемент масcива будет равен 1.0, минимальный 0.0"
   ]
  },
  {
   "cell_type": "code",
   "execution_count": 3,
   "metadata": {},
   "outputs": [
    {
     "name": "stdout",
     "output_type": "stream",
     "text": [
      "Массив: [[12.31032942  7.17180848  4.67731639 12.50024122 15.22161323  4.72713487\n",
      "   0.97928726]\n",
      " [ 3.44154424  2.16079293 18.91674907 10.24420128 18.49066127 15.56201007\n",
      "   1.96070277]\n",
      " [10.18359524  4.53213385 10.16260281  6.93641546 15.87720706  9.83624259\n",
      "  16.03856434]\n",
      " [ 9.29783262  2.93866013  3.90263679  1.60061541 17.04125376 17.57757484\n",
      "  18.04247932]]\n",
      "Нормализованный массив: [[0.63169708 0.3452284  0.20616234 0.64228452 0.79399896 0.20893968\n",
      "  0.        ]\n",
      " [0.13726897 0.06586805 1.         0.51651199 0.97624593 0.81297582\n",
      "  0.05471318]\n",
      " [0.51313324 0.19806852 0.51196293 0.33210541 0.83054782 0.4937686\n",
      "  0.83954337]\n",
      " [0.46375265 0.10923356 0.16297454 0.03463858 0.89544255 0.92534204\n",
      "  0.95126012]]\n"
     ]
    }
   ],
   "source": [
    "import numpy as np\n",
    "# help(np.random.uniform)\n",
    "arr = np.random.uniform(0, 20, size = (4,7))\n",
    "print(f'Массив: {arr}')\n",
    "a = 1/(arr.max()-arr.min())\n",
    "b = -arr.min() * a\n",
    "datanorm = a * arr + b\n",
    "print(f'Нормализованный массив: {datanorm}')"
   ]
  },
  {
   "cell_type": "markdown",
   "metadata": {},
   "source": [
    "2. Создать матрицу 8 на 10 из случайных целых (используя модуль `numpy.random`) чисел из диапозона от 0 до 10 и найти в ней строку (ее индекс и вывести саму строку), в которой сумма значений минимальна."
   ]
  },
  {
   "cell_type": "code",
   "execution_count": 4,
   "metadata": {},
   "outputs": [
    {
     "name": "stdout",
     "output_type": "stream",
     "text": [
      "[[ 0  1  0  1  3  0  1  2  2  0]\n",
      " [ 8  2  1  6  8  3  4  5  1 10]\n",
      " [ 2  3  7  7  5  4  4  1  4  7]\n",
      " [ 9  3  7  1  4  5  9  4 10  4]\n",
      " [ 7  4  1  4  5  2  9 10  1  8]\n",
      " [ 2  9  6  6  1  5  6 10  3  1]\n",
      " [ 4  3  4  6  4  0  7  6  3  6]\n",
      " [ 9  6  1  9 10 10  3  5  9  7]]\n",
      "Индекс строки: 0\n",
      "Строка: [0 1 0 1 3 0 1 2 2 0]\n"
     ]
    }
   ],
   "source": [
    "arr = np.random.randint(0, 11, size=(8, 10))\n",
    "print(arr)\n",
    "print(f'Индекс строки: {np.sum(arr, axis=1).argmin()}')\n",
    "print(\"Строка:\", arr[np.sum(arr, axis=1).argmin()])"
   ]
  },
  {
   "cell_type": "markdown",
   "metadata": {},
   "source": [
    "3. Найти евклидово расстояние между двумя одномерными векторами одинаковой размерности."
   ]
  },
  {
   "cell_type": "code",
   "execution_count": 5,
   "metadata": {},
   "outputs": [
    {
     "name": "stdout",
     "output_type": "stream",
     "text": [
      "Вектора для примера:  [1 2 3] [4 5 6]\n",
      "Евклидово расстояние:  5.196152422706632\n"
     ]
    }
   ],
   "source": [
    "# Примеры двух одномерных векторов:\n",
    "vec1 = np.array([1, 2, 3])\n",
    "vec2 = np.array([4, 5, 6])\n",
    "print('Вектора для примера: ', vec1, vec2)\n",
    "print('Евклидово расстояние: ', np.linalg.norm(vec1 - vec2))"
   ]
  },
  {
   "cell_type": "markdown",
   "metadata": {},
   "source": [
    "4. Решить матричное уравнение `A*X*B=-C` - найти матрицу `X`. Где `A = [[-1, 2, 4], [-3, 1, 2], [-3, 0, 1]]`, `B=[[3, -1], [2, 1]]`, `C=[[7, 21], [11, 8], [8, 4]]`."
   ]
  },
  {
   "cell_type": "code",
   "execution_count": 6,
   "metadata": {},
   "outputs": [
    {
     "name": "stdout",
     "output_type": "stream",
     "text": [
      "[[ 1.00000000e+00  1.11022302e-15]\n",
      " [-2.00000000e+00  1.00000000e+00]\n",
      " [ 3.00000000e+00 -4.00000000e+00]]\n"
     ]
    }
   ],
   "source": [
    "A = np.array([[-1, 2, 4], [-3, 1, 2], [-3, 0, 1]])\n",
    "B = np.array([[3, -1], [2, 1]])\n",
    "C = np.array([[7, 21], [11, 8], [8, 4]])\n",
    "X = np.linalg.inv(A) @ (-C) @ np.linalg.inv(B)\n",
    "print(X)"
   ]
  },
  {
   "cell_type": "markdown",
   "metadata": {},
   "source": [
    "## Лабораторная работа №1"
   ]
  },
  {
   "cell_type": "markdown",
   "metadata": {},
   "source": [
    "Замечание: при решении данных задач не подразумевается использования циклов или генераторов Python, если в задании не сказано обратного. Решение должно опираться на использования функционала библиотеки `numpy`."
   ]
  },
  {
   "cell_type": "markdown",
   "metadata": {},
   "source": [
    "1. Файл `minutes_n_ingredients.csv` содержит информацию об идентификаторе рецепта, времени его выполнения в минутах и количестве необходимых ингредиентов. Считайте данные из этого файла в виде массива `numpy` типа `int32`, используя `np.loadtxt`. Выведите на экран первые 5 строк массива."
   ]
  },
  {
   "cell_type": "code",
   "execution_count": 7,
   "metadata": {},
   "outputs": [
    {
     "name": "stdout",
     "output_type": "stream",
     "text": [
      "[[127244     60     16]\n",
      " [ 23891     25      7]\n",
      " [ 94746     10      6]\n",
      " [ 67660      5      6]\n",
      " [157911     60     14]]\n"
     ]
    }
   ],
   "source": [
    "file = np.loadtxt('minutes_n_ingredients.csv', delimiter = ',', dtype = np.int32, skiprows = 1)\n",
    "print(file[:5])"
   ]
  },
  {
   "cell_type": "markdown",
   "metadata": {},
   "source": [
    "2. Вычислите среднее значение, минимум, максимум и медиану по каждому из столбцов, кроме первого."
   ]
  },
  {
   "cell_type": "code",
   "execution_count": 8,
   "metadata": {},
   "outputs": [
    {
     "name": "stdout",
     "output_type": "stream",
     "text": [
      "Среднее значение: [2.13486713e+04 9.05528000e+00]\n",
      "Минимальные значения по столбцам: 1-го - 0, 2-го - 1\n",
      "Максимальные значения по столбцам: 1-го - 2147483647, 2-го - 39\n",
      "Медианы по столбцам: 1-го - 40.0, 2-го - 9.0\n"
     ]
    }
   ],
   "source": [
    "print(f'Среднее значение: {abs(np.sum(file[:, 1:], axis = 0)/np.size(file[:, 1:], axis = 0))}')\n",
    "# Мoжно использовать mean: print(np.mean(file[:,1:], axis=0))\n",
    "print(f'Минимальные значения по столбцам: 1-го - {np.min(file[:, 1])}, 2-го - {np.min(file[:, 2])}')\n",
    "print(f'Максимальные значения по столбцам: 1-го - {np.max(file[:, 1])}, 2-го - {np.max(file[:, 2])}')\n",
    "print(f'Медианы по столбцам: 1-го - {np.median(file[:, 1])}, 2-го - {np.median(file[:, 2])}')"
   ]
  },
  {
   "cell_type": "markdown",
   "metadata": {},
   "source": [
    "3. Ограничьте сверху значения продолжительности выполнения рецепта значением квантиля $q_{0.75}$. "
   ]
  },
  {
   "cell_type": "code",
   "execution_count": 9,
   "metadata": {},
   "outputs": [],
   "source": [
    "quantile_75 = np.quantile(file[:, 1], 0.75)\n",
    "file[:, 1] = np.minimum(file[:, 1], quantile_75)\n",
    "# Ограничение значения квантилем означает, что мы применяем такой метод, который позволяет нам ограничить значения нашего \n",
    "# набора данных таким образом, чтобы по крайней мере 75% значений были меньше или равны этому ограничивающему значению'''"
   ]
  },
  {
   "cell_type": "markdown",
   "metadata": {},
   "source": [
    "4. Посчитайте, для скольких рецептов указана продолжительность, равная нулю. Замените для таких строк значение в данном столбце на 1."
   ]
  },
  {
   "cell_type": "code",
   "execution_count": 10,
   "metadata": {},
   "outputs": [
    {
     "name": "stdout",
     "output_type": "stream",
     "text": [
      "Таких рецептов 479\n"
     ]
    }
   ],
   "source": [
    "count = np.sum(file[:, 1] == 0)\n",
    "print(f'Таких рецептов {count}')\n",
    "file[file[:, 1] == 0, 1] = 1"
   ]
  },
  {
   "cell_type": "markdown",
   "metadata": {},
   "source": [
    "5. Посчитайте, сколько уникальных рецептов находится в датасете."
   ]
  },
  {
   "cell_type": "code",
   "execution_count": 11,
   "metadata": {},
   "outputs": [
    {
     "name": "stdout",
     "output_type": "stream",
     "text": [
      "Количество уникальных рецептов: 1135\n"
     ]
    }
   ],
   "source": [
    "unique_recipes = np.unique(file[:, 1:], axis=0)\n",
    "num_unique_recipes = len(unique_recipes)\n",
    "print(\"Количество уникальных рецептов:\", num_unique_recipes)"
   ]
  },
  {
   "cell_type": "markdown",
   "metadata": {},
   "source": [
    "6. Сколько и каких различных значений кол-ва ингредиентов присутвует в рецептах из датасета?"
   ]
  },
  {
   "cell_type": "code",
   "execution_count": 12,
   "metadata": {},
   "outputs": [
    {
     "name": "stdout",
     "output_type": "stream",
     "text": [
      "Количество различных значений количества ингредиентов: 37\n",
      "Различные значения количества ингредиентов: [ 1  2  3  4  5  6  7  8  9 10 11 12 13 14 15 16 17 18 19 20 21 22 23 24\n",
      " 25 26 27 28 29 30 31 32 33 34 35 37 39]\n"
     ]
    }
   ],
   "source": [
    "unik_ingredient_counts = np.unique(file[:, 2])\n",
    "print(\"Количество различных значений количества ингредиентов:\", len(unik_ingredient_counts))\n",
    "print(\"Различные значения количества ингредиентов:\", unik_ingredient_counts)"
   ]
  },
  {
   "cell_type": "markdown",
   "metadata": {},
   "source": [
    "7. Создайте версию массива, содержащую информацию только о рецептах, состоящих не более чем из 5 ингредиентов."
   ]
  },
  {
   "cell_type": "code",
   "execution_count": 13,
   "metadata": {},
   "outputs": [
    {
     "name": "stdout",
     "output_type": "stream",
     "text": [
      "Такой массив: \n",
      " [[446597     15      5]\n",
      " [204134      5      3]\n",
      " [ 25623      6      4]\n",
      " ...\n",
      " [ 52088     60      5]\n",
      " [128811     15      4]\n",
      " [370915      5      4]]\n"
     ]
    }
   ],
   "source": [
    "filtered_file = file[file[:, 2] <= 5]\n",
    "print('Такой массив: \\n', filtered_file)"
   ]
  },
  {
   "cell_type": "markdown",
   "metadata": {},
   "source": [
    "8. Для каждого рецепта посчитайте, сколько в среднем ингредиентов приходится на одну минуту рецепта. Найдите максимальное значение этой величины для всего датасета"
   ]
  },
  {
   "cell_type": "code",
   "execution_count": 14,
   "metadata": {},
   "outputs": [
    {
     "name": "stdout",
     "output_type": "stream",
     "text": [
      "Среднее количество ингредиентов на одну минуту: 0.3983000355850672\n",
      "Максимальное количество ингредиентов на одну минуту: 24.0\n"
     ]
    }
   ],
   "source": [
    "max_ingredients_na_minute = np.max(file[:, 2] / file[:, 1])\n",
    "mean_ingredients_na_minute = np.mean(file[:, 2] / file[:, 1])\n",
    "print(\"Среднее количество ингредиентов на одну минуту:\", mean_ingredients_na_minute)\n",
    "print(\"Максимальное количество ингредиентов на одну минуту:\", max_ingredients_na_minute)"
   ]
  },
  {
   "cell_type": "markdown",
   "metadata": {},
   "source": [
    "9. Вычислите среднее количество ингредиентов для топ-100 рецептов с наибольшей продолжительностью"
   ]
  },
  {
   "cell_type": "code",
   "execution_count": 15,
   "metadata": {},
   "outputs": [
    {
     "name": "stdout",
     "output_type": "stream",
     "text": [
      "Среднее количество ингредиентов для топ-100 рецептов с наибольшей продолжительностью: 9.96\n"
     ]
    }
   ],
   "source": [
    "top100 = file[file[:, 1].argsort()[-100:]]\n",
    "print(\"Среднее количество ингредиентов для топ-100 рецептов с наибольшей продолжительностью:\", np.mean(top100[:, 2]))"
   ]
  },
  {
   "cell_type": "markdown",
   "metadata": {},
   "source": [
    "10. Выберите случайным образом и выведите информацию о 10 различных рецептах"
   ]
  },
  {
   "cell_type": "code",
   "execution_count": 16,
   "metadata": {},
   "outputs": [
    {
     "name": "stdout",
     "output_type": "stream",
     "text": [
      "Информация о 10 различных рецептах: \n",
      " [[ 31497     60     15]\n",
      " [ 50026     65      5]\n",
      " [358053     41     11]\n",
      " [ 14601     65      5]\n",
      " [319663      5      7]\n",
      " [ 71393     10      2]\n",
      " [405050     65     14]\n",
      " [202869     30     12]\n",
      " [399370      3      4]\n",
      " [186299     65     10]]\n"
     ]
    }
   ],
   "source": [
    "sluch_indikat = np.random.choice(file.shape[0], size = 10, replace = False)\n",
    "print('Информация о 10 различных рецептах: \\n', file[sluch_indikat])"
   ]
  },
  {
   "cell_type": "markdown",
   "metadata": {},
   "source": [
    "11. Выведите процент рецептов, кол-во ингредиентов в которых меньше среднего."
   ]
  },
  {
   "cell_type": "code",
   "execution_count": 17,
   "metadata": {},
   "outputs": [
    {
     "name": "stdout",
     "output_type": "stream",
     "text": [
      "Процент рецептов, у которых количество ингредиентов меньше среднего: 58.802%\n"
     ]
    }
   ],
   "source": [
    "sr_procent = np.mean(file[:, 2])\n",
    "count_recept = np.sum(file[:, 2] < sr_procent)\n",
    "print(f\"Процент рецептов, у которых количество ингредиентов меньше среднего: {count_recept/len(file)*100}%\")"
   ]
  },
  {
   "cell_type": "markdown",
   "metadata": {},
   "source": [
    "12. Назовем \"простым\" такой рецепт, длительность выполнения которого не больше 20 минут и кол-во ингредиентов в котором не больше 5. Создайте версию датасета с дополнительным столбцом, значениями которого являются 1, если рецепт простой, и 0 в противном случае."
   ]
  },
  {
   "cell_type": "code",
   "execution_count": 18,
   "metadata": {},
   "outputs": [
    {
     "name": "stdout",
     "output_type": "stream",
     "text": [
      "Этот датасет: \n",
      " [[127244     60     16      0]\n",
      " [ 23891     25      7      0]\n",
      " [ 94746     10      6      0]\n",
      " ...\n",
      " [498432     65     15      0]\n",
      " [370915      5      4      1]\n",
      " [ 81993     65     14      0]]\n"
     ]
    }
   ],
   "source": [
    "simple_recipe = np.zeros((len(file), 1), dtype=np.int32)\n",
    "# np.zeros(shape) создает новый массив, заполненный нулями, указанной формы (shape)\n",
    "simple_recipe[(file[:, 1] <= 20) & (file[:, 2] <= 5)] = 1\n",
    "file_with_simple_column = np.hstack((file, simple_recipe))\n",
    "# np.hstack() используется для горизонтального соединения массивов\n",
    "print(\"Этот датасет: \\n\", file_with_simple_column)"
   ]
  },
  {
   "cell_type": "markdown",
   "metadata": {},
   "source": [
    "13. Выведите процент \"простых\" рецептов в датасете"
   ]
  },
  {
   "cell_type": "code",
   "execution_count": 19,
   "metadata": {},
   "outputs": [
    {
     "name": "stdout",
     "output_type": "stream",
     "text": [
      "Процент 'простых' рецептов в датасете: 9.552%\n"
     ]
    }
   ],
   "source": [
    "simple_recipe_count = np.sum(simple_recipe)\n",
    "procent_simple_recipes = (simple_recipe_count / len(file)) * 100\n",
    "print(f\"Процент 'простых' рецептов в датасете: {procent_simple_recipes}%\")"
   ]
  },
  {
   "cell_type": "markdown",
   "metadata": {},
   "source": [
    "14. Разделим рецепты на группы по следующему правилу. Назовем рецепты короткими, если их продолжительность составляет менее 10 минут; стандартными, если их продолжительность составляет более 10, но менее 20 минут; и длинными, если их продолжительность составляет не менее 20 минут. Создайте трехмерный массив, где нулевая ось отвечает за номер группы (короткий, стандартный или длинный рецепт), первая ось - за сам рецепт и вторая ось - за характеристики рецепта. Выберите максимальное количество рецептов из каждой группы таким образом, чтобы было возможно сформировать трехмерный массив. Выведите форму полученного массива."
   ]
  },
  {
   "cell_type": "code",
   "execution_count": 20,
   "metadata": {},
   "outputs": [
    {
     "name": "stdout",
     "output_type": "stream",
     "text": [
      "[[127244     60     16]\n",
      " [ 23891     25      7]\n",
      " [ 94746     10      6]\n",
      " [ 67660      5      6]\n",
      " [157911     60     14]]\n",
      "Форма полученного массива: (3, 7588, 3)\n"
     ]
    }
   ],
   "source": [
    "short_recept = file[file[:, 1] < 10]\n",
    "standard_recept = file[(file[:, 1] >= 10) & (file[:, 1] < 20)]\n",
    "long_recept = file[file[:, 1] >= 20]\n",
    "max_length = min(len(short_recept), len(standard_recept), len(long_recept))\n",
    "short_recept = short_recept[:max_length]\n",
    "standard_recept = standard_recept[:max_length]\n",
    "long_recept = long_recept[:max_length]\n",
    "print(file[:5])\n",
    "three_dimensional_array = np.array([short_recept, standard_recept, long_recept])\n",
    "print(\"Форма полученного массива:\", three_dimensional_array.shape)"
   ]
  }
 ],
 "metadata": {
  "kernelspec": {
   "display_name": "Python 3 (ipykernel)",
   "language": "python",
   "name": "python3"
  },
  "language_info": {
   "codemirror_mode": {
    "name": "ipython",
    "version": 3
   },
   "file_extension": ".py",
   "mimetype": "text/x-python",
   "name": "python",
   "nbconvert_exporter": "python",
   "pygments_lexer": "ipython3",
   "version": "3.11.5"
  }
 },
 "nbformat": 4,
 "nbformat_minor": 4
}
